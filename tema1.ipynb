{
 "cells": [
  {
   "cell_type": "code",
   "execution_count": 1,
   "metadata": {},
   "outputs": [
    {
     "name": "stdout",
     "output_type": "stream",
     "text": [
      "[75.0, 175.0, 229.0, 138.0, 185.0, 155.0]\n"
     ]
    }
   ],
   "source": [
    "f = open('numbers.txt','r')\n",
    "def suma(x):\n",
    "    s=0;\n",
    "    for a in x:\n",
    "        s+=a;\n",
    "    return s\n",
    "def process_line(line):\n",
    "    return suma(list(map(float ,str.split(line[:-1],',')   )))\n",
    "\n",
    "nums = [process_line(line) for line in f]\n",
    "print(nums)\n",
    "\n",
    "f.close()\n"
   ]
  },
  {
   "cell_type": "code",
   "execution_count": 2,
   "metadata": {},
   "outputs": [
    {
     "name": "stdout",
     "output_type": "stream",
     "text": [
      "957.0\n"
     ]
    }
   ],
   "source": [
    "f = open('numbers.txt','r')\n",
    "def suma(x):\n",
    "    s=0;\n",
    "    for a in x:\n",
    "        s+=a;\n",
    "    return s\n",
    "def process_line(line):\n",
    "    return suma(list(map(float ,str.split(line[:-1],',')   )))\n",
    "\n",
    "nums = [process_line(line) for line in f]\n",
    "sumatuturorelementelor=suma(nums)\n",
    "print(sumatuturorelementelor)\n",
    "\n",
    "f.close()"
   ]
  },
  {
   "cell_type": "code",
   "execution_count": 3,
   "metadata": {},
   "outputs": [
    {
     "name": "stdout",
     "output_type": "stream",
     "text": [
      "['10', '15', '20', '30', '20', '25', '50', '80', '50', '54', '55', '70', '30', '35', '60', '13', '40', '45', '70', '30', '60', '66', '12', '17']\n"
     ]
    }
   ],
   "source": [
    "f = open('numbers.txt','r')\n",
    "a=[]\n",
    "def process_line(line):\n",
    "    return list(str.split(line[:-1], ',')   )\n",
    "for line in f:\n",
    "    a+=process_line(line)\n",
    "print(a)\n",
    "f.close()\n"
   ]
  },
  {
   "cell_type": "code",
   "execution_count": 4,
   "metadata": {},
   "outputs": [
    {
     "name": "stdout",
     "output_type": "stream",
     "text": [
      "13\n"
     ]
    }
   ],
   "source": [
    "f = open('numbers.txt','r')\n",
    "def numaruldelementemm(x):\n",
    "    nr=0\n",
    "    for a in x:\n",
    "        nr=nr+(a>30.1)\n",
    "    return nr\n",
    "def process_line(line):\n",
    "    return numaruldelementemm(list(map(float,   str.split(line[:-1], ',')   )))\n",
    " \n",
    "nums = [process_line(line) for line in f]\n",
    "k=suma(nums)\n",
    "print(k) \n",
    "f.close()"
   ]
  },
  {
   "cell_type": "code",
   "execution_count": 5,
   "metadata": {},
   "outputs": [
    {
     "name": "stdout",
     "output_type": "stream",
     "text": [
      "0\n",
      "0\n",
      "0\n",
      "0\n",
      "0\n",
      "0\n",
      "0\n",
      "0\n",
      "0\n",
      "0\n",
      "1\n",
      "1\n",
      "2\n",
      "3\n",
      "3\n",
      "4\n",
      "4\n",
      "5\n",
      "5\n",
      "5\n",
      "7\n",
      "7\n",
      "7\n",
      "7\n",
      "7\n",
      "8\n",
      "8\n",
      "8\n",
      "8\n",
      "8\n",
      "11\n",
      "11\n",
      "11\n",
      "11\n",
      "11\n",
      "12\n",
      "12\n",
      "12\n",
      "12\n",
      "12\n",
      "13\n",
      "13\n",
      "13\n",
      "13\n",
      "13\n",
      "14\n",
      "14\n",
      "14\n",
      "14\n",
      "14\n",
      "16\n",
      "16\n",
      "16\n",
      "16\n",
      "17\n",
      "18\n",
      "18\n",
      "18\n",
      "18\n",
      "18\n",
      "20\n",
      "20\n",
      "20\n",
      "20\n",
      "20\n",
      "20\n",
      "21\n",
      "21\n",
      "21\n",
      "21\n",
      "23\n",
      "23\n",
      "23\n",
      "23\n",
      "23\n",
      "23\n",
      "23\n",
      "23\n",
      "23\n",
      "23\n",
      "24\n",
      "24\n",
      "24\n",
      "24\n",
      "24\n",
      "24\n",
      "24\n",
      "24\n",
      "24\n",
      "24\n",
      "24\n",
      "24\n",
      "24\n",
      "24\n",
      "24\n",
      "24\n",
      "24\n",
      "24\n",
      "24\n",
      "24\n"
     ]
    }
   ],
   "source": [
    "for i in range(1,101):\n",
    "    f = open('numbers.txt','r')\n",
    "    def numaruldelementemm1(x,i):\n",
    "        nr=0\n",
    "        for a in x:\n",
    "            nr=nr+(a<i)\n",
    "        return nr\n",
    "    def process_line(line,i):\n",
    "        return numaruldelementemm1(list(map(float,   str.split(line[:-1], ',')   )),i)\n",
    "    nums = [process_line(line,i) for line in f]\n",
    "    k=suma(nums)\n",
    "    print(k) \n",
    "    f.close()"
   ]
  },
  {
   "cell_type": "code",
   "execution_count": null,
   "metadata": {},
   "outputs": [],
   "source": []
  }
 ],
 "metadata": {
  "kernelspec": {
   "display_name": "Python 3",
   "language": "python",
   "name": "python3"
  },
  "language_info": {
   "codemirror_mode": {
    "name": "ipython",
    "version": 3
   },
   "file_extension": ".py",
   "mimetype": "text/x-python",
   "name": "python",
   "nbconvert_exporter": "python",
   "pygments_lexer": "ipython3",
   "version": "3.7.4"
  }
 },
 "nbformat": 4,
 "nbformat_minor": 2
}
